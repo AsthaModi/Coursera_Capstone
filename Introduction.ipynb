{
 "cells": [
  {
   "cell_type": "markdown",
   "metadata": {},
   "source": [
    "<h1>Introduction/Business Problem</h1>\n",
    "<p>The number of road accidents have been increasing day by day.It is a major cause of injuries and deaths. Moreover, it causes property damage which causes financial loss. There are more number of people who have dies because of road accidents than diseases.We need to find the cause of these accidents by analyzing data and reduce them or prevent them. We also need to provide the earliest help possible to them so that lives could be saved.</p>\n",
    "\n",
    "<h2>Target Audience</h2>\n",
    "<p>We all know that there are numerous car accidents taking place because of wrong driving practices, rash driving, over speeding and many other reasons. Some of the accidents are very critical and in a few of them there are chances that the people involved in the  accident die at that very moment moment. So here the problem is that we analyze the causes of accidents. They can be at a particular place, at a particular time interval or because of a particular speed. We can even analyze that there are accidents in a particular season and are of what severity so that help can be provided to them at the earliest.</p>"
   ]
  },
  {
   "cell_type": "code",
   "execution_count": null,
   "metadata": {},
   "outputs": [],
   "source": []
  }
 ],
 "metadata": {
  "kernelspec": {
   "display_name": "Python 3",
   "language": "python",
   "name": "python3"
  },
  "language_info": {
   "codemirror_mode": {
    "name": "ipython",
    "version": 3
   },
   "file_extension": ".py",
   "mimetype": "text/x-python",
   "name": "python",
   "nbconvert_exporter": "python",
   "pygments_lexer": "ipython3",
   "version": "3.7.6"
  }
 },
 "nbformat": 4,
 "nbformat_minor": 4
}
